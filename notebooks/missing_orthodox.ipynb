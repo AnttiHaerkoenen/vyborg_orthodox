{
 "cells": [
  {
   "cell_type": "code",
   "execution_count": 1,
   "outputs": [],
   "source": [
    "import warnings\n",
    "from pathlib import Path\n",
    "\n",
    "import pandas as pd\n",
    "\n",
    "data_dir = Path('../data')\n",
    "warnings.simplefilter(action='ignore', category=FutureWarning)"
   ],
   "metadata": {
    "collapsed": false,
    "pycharm": {
     "name": "#%%\n"
    }
   }
  },
  {
   "cell_type": "code",
   "execution_count": 2,
   "outputs": [],
   "source": [
    "def remove_institutions(\n",
    "        pop_data: pd.DataFrame,\n",
    "        institutions: pd.DataFrame,\n",
    "        year,\n",
    "):\n",
    "    institutions = institutions.set_index(['district', 'plot_number'])\n",
    "    institutions = institutions.loc[institutions.year == year]\n",
    "\n",
    "    for idx in institutions.index:\n",
    "        pop_data = pop_data.drop(index=idx, errors='ignore')\n",
    "\n",
    "    return pop_data\n",
    "\n",
    "def prepare_pop_data(\n",
    "        population_data: pd.DataFrame,\n",
    "        num_cols=None,\n",
    ") -> pd.DataFrame:\n",
    "\n",
    "    pop_frame = population_data.fillna(value=0)\n",
    "\n",
    "    if not num_cols:\n",
    "        num_cols = [\n",
    "            'total_men',\n",
    "            'total_women',\n",
    "            'orthodox',\n",
    "            'other_christian',\n",
    "            'other_religion',\n",
    "        ]\n",
    "\n",
    "    pop_frame.loc[:, num_cols] = pop_frame.loc[:, num_cols].astype(int)\n",
    "\n",
    "    pop_frame['lutheran'] = pop_frame['total_men total_women'.split()].sum(axis=1) \\\n",
    "                            - pop_frame['other_christian orthodox other_religion'.split()].sum(axis=1)\n",
    "\n",
    "    pop_frame['total'] = pop_frame['other_christian orthodox other_religion lutheran'.split()].sum(axis=1)\n",
    "\n",
    "    return pop_frame"
   ],
   "metadata": {
    "collapsed": false,
    "pycharm": {
     "name": "#%% Data handling\n"
    }
   }
  },
  {
   "cell_type": "code",
   "execution_count": 25,
   "outputs": [
    {
     "data": {
      "text/plain": "<AxesSubplot:>"
     },
     "execution_count": 25,
     "metadata": {},
     "output_type": "execute_result"
    },
    {
     "data": {
      "text/plain": "<Figure size 432x288 with 1 Axes>",
      "image/png": "[encoded data removed]"
     },
     "metadata": {
      "needs_background": "light"
     },
     "output_type": "display_data"
    }
   ],
   "source": [
    "district_codes = pd.read_csv(data_dir / 'district_codes_1878.csv')\n",
    "district_codes = {k: v for k, v in district_codes.itertuples(index=False)}\n",
    "institutions = pd.read_csv(data_dir / 'institutions.csv', dtype={'district': str, 'plot_number': str})\n",
    "\n",
    "districts_in_city = [\n",
    "    'Valli',\n",
    "    'Salakkalahti',\n",
    "    'Repola',\n",
    "    'Anina',\n",
    "    'Papula',\n",
    "    'P_Annan_kruunu',\n",
    "    'Hiekka',\n",
    "    'Pantsarlahti',\n",
    "    'Viipurin_esikaupunki',\n",
    "    'Paulovski',\n",
    "    'Havi',\n",
    "    'Saunalahti',\n",
    "    'Pietarin_esikaupunki',\n",
    "]\n",
    "\n",
    "poll_tax = {}\n",
    "\n",
    "for year in range(1880, 1921, 5):\n",
    "    population_data = pd.read_csv(\n",
    "            data_dir / 'interim' / f'pop_by_page_{year}.csv',\n",
    "            index_col=0,\n",
    "            dtype={'district': str, 'representative_plot': str, 'page_number': str},\n",
    "        ).pipe(prepare_pop_data).pipe(remove_institutions, institutions, year)\n",
    "    population_data = population_data[population_data.district.isin(districts_in_city)]\n",
    "    population_data = population_data.loc[:, ['district', 'lutheran', 'orthodox', 'total']].groupby('district').sum()\n",
    "    totals = pd.Series(population_data.sum(axis=0), name='totals')\n",
    "    population_data = population_data.append(totals)\n",
    "\n",
    "    poll_tax[year] = population_data.loc['totals', 'orthodox']\n",
    "\n",
    "poll_tax = pd.Series(poll_tax, name='poll_tax')\n",
    "health_council = pd.read_csv(data_dir / 'health_council.csv', index_col=0).pop_orthodox\n",
    "foreigners = pd.read_csv(data_dir / 'foreigners.csv', index_col=0).russia\n",
    "language = pd.read_csv(data_dir / 'language.csv', index_col=0).russian\n",
    "religion = pd.read_csv(data_dir / 'religion.csv', index_col=0).orthodox\n",
    "data = pd.DataFrame([poll_tax, health_council, foreigners, language, religion]).T\n",
    "data.columns = ['register', 'health_council_orthodox', 'Russian_citizens', 'Russian_speakers', 'Census_orthodox']\n",
    "# data.interpolate(method='linear', inplace=True)\n",
    "data.plot(marker='o')"
   ],
   "metadata": {
    "collapsed": false,
    "pycharm": {
     "name": "#%%\n"
    }
   }
  },
  {
   "cell_type": "markdown",
   "source": [
    "Model:\n",
    "\n",
    "$ o_t = y_t - m_t $\n",
    "\n",
    "$ m_t \\sim Poisson(30) $\n",
    "\n",
    "$ y_t = \\theta y_{t-1} + \\epsilon_t $\n",
    "\n",
    "$ \\epsilon_t \\sim N(0, 5^2) $\n",
    "\n",
    "$ \\theta_t \\sim N(0, 0.1^2) $"
   ],
   "metadata": {
    "collapsed": false
   }
  },
  {
   "cell_type": "code",
   "execution_count": 4,
   "outputs": [
    {
     "ename": "ImportError",
     "evalue": "DLL load failed while importing defs: Määritettyä proseduuria ei löydy.",
     "output_type": "error",
     "traceback": [
      "\u001B[1;31m---------------------------------------------------------------------------\u001B[0m",
      "\u001B[1;31mImportError\u001B[0m                               Traceback (most recent call last)",
      "\u001B[1;32m<ipython-input-4-a923c150269e>\u001B[0m in \u001B[0;36m<module>\u001B[1;34m\u001B[0m\n\u001B[0;32m      1\u001B[0m \u001B[1;32mimport\u001B[0m \u001B[0mpandas\u001B[0m \u001B[1;32mas\u001B[0m \u001B[0mpd\u001B[0m\u001B[1;33m\u001B[0m\u001B[1;33m\u001B[0m\u001B[0m\n\u001B[0;32m      2\u001B[0m \u001B[1;32mimport\u001B[0m \u001B[0mnumpy\u001B[0m \u001B[1;32mas\u001B[0m \u001B[0mnp\u001B[0m\u001B[1;33m\u001B[0m\u001B[1;33m\u001B[0m\u001B[0m\n\u001B[1;32m----> 3\u001B[1;33m \u001B[1;32mimport\u001B[0m \u001B[0mpymc3\u001B[0m \u001B[1;32mas\u001B[0m \u001B[0mpm\u001B[0m\u001B[1;33m\u001B[0m\u001B[1;33m\u001B[0m\u001B[0m\n\u001B[0m\u001B[0;32m      4\u001B[0m \u001B[1;32mimport\u001B[0m \u001B[0marviz\u001B[0m \u001B[1;32mas\u001B[0m \u001B[0maz\u001B[0m\u001B[1;33m\u001B[0m\u001B[1;33m\u001B[0m\u001B[0m\n\u001B[0;32m      5\u001B[0m \u001B[1;32mimport\u001B[0m \u001B[0mmatplotlib\u001B[0m\u001B[1;33m.\u001B[0m\u001B[0mpyplot\u001B[0m \u001B[1;32mas\u001B[0m \u001B[0mplt\u001B[0m\u001B[1;33m\u001B[0m\u001B[1;33m\u001B[0m\u001B[0m\n",
      "\u001B[1;32m~\\Anaconda3\\envs\\vyborg_orthodox\\lib\\site-packages\\pymc3\\__init__.py\u001B[0m in \u001B[0;36m<module>\u001B[1;34m\u001B[0m\n\u001B[0;32m     12\u001B[0m \u001B[1;32mfrom\u001B[0m \u001B[1;33m.\u001B[0m \u001B[1;32mimport\u001B[0m \u001B[0mode\u001B[0m\u001B[1;33m\u001B[0m\u001B[1;33m\u001B[0m\u001B[0m\n\u001B[0;32m     13\u001B[0m \u001B[1;32mfrom\u001B[0m \u001B[1;33m.\u001B[0m\u001B[0mstats\u001B[0m \u001B[1;32mimport\u001B[0m \u001B[1;33m*\u001B[0m\u001B[1;33m\u001B[0m\u001B[1;33m\u001B[0m\u001B[0m\n\u001B[1;32m---> 14\u001B[1;33m \u001B[1;32mfrom\u001B[0m \u001B[1;33m.\u001B[0m\u001B[0msampling\u001B[0m \u001B[1;32mimport\u001B[0m \u001B[1;33m*\u001B[0m\u001B[1;33m\u001B[0m\u001B[1;33m\u001B[0m\u001B[0m\n\u001B[0m\u001B[0;32m     15\u001B[0m \u001B[1;32mfrom\u001B[0m \u001B[1;33m.\u001B[0m\u001B[0mstep_methods\u001B[0m \u001B[1;32mimport\u001B[0m \u001B[1;33m*\u001B[0m\u001B[1;33m\u001B[0m\u001B[1;33m\u001B[0m\u001B[0m\n\u001B[0;32m     16\u001B[0m \u001B[1;32mfrom\u001B[0m \u001B[1;33m.\u001B[0m\u001B[0msmc\u001B[0m \u001B[1;32mimport\u001B[0m \u001B[1;33m*\u001B[0m\u001B[1;33m\u001B[0m\u001B[1;33m\u001B[0m\u001B[0m\n",
      "\u001B[1;32m~\\Anaconda3\\envs\\vyborg_orthodox\\lib\\site-packages\\pymc3\\sampling.py\u001B[0m in \u001B[0;36m<module>\u001B[1;34m\u001B[0m\n\u001B[0;32m     15\u001B[0m \u001B[1;32mfrom\u001B[0m \u001B[0mtheano\u001B[0m\u001B[1;33m.\u001B[0m\u001B[0mtensor\u001B[0m \u001B[1;32mimport\u001B[0m \u001B[0mTensor\u001B[0m\u001B[1;33m\u001B[0m\u001B[1;33m\u001B[0m\u001B[0m\n\u001B[0;32m     16\u001B[0m \u001B[1;33m\u001B[0m\u001B[0m\n\u001B[1;32m---> 17\u001B[1;33m \u001B[1;32mfrom\u001B[0m \u001B[1;33m.\u001B[0m\u001B[0mbackends\u001B[0m\u001B[1;33m.\u001B[0m\u001B[0mbase\u001B[0m \u001B[1;32mimport\u001B[0m \u001B[0mBaseTrace\u001B[0m\u001B[1;33m,\u001B[0m \u001B[0mMultiTrace\u001B[0m\u001B[1;33m\u001B[0m\u001B[1;33m\u001B[0m\u001B[0m\n\u001B[0m\u001B[0;32m     18\u001B[0m \u001B[1;32mfrom\u001B[0m \u001B[1;33m.\u001B[0m\u001B[0mbackends\u001B[0m\u001B[1;33m.\u001B[0m\u001B[0mndarray\u001B[0m \u001B[1;32mimport\u001B[0m \u001B[0mNDArray\u001B[0m\u001B[1;33m\u001B[0m\u001B[1;33m\u001B[0m\u001B[0m\n\u001B[0;32m     19\u001B[0m \u001B[1;32mfrom\u001B[0m \u001B[1;33m.\u001B[0m\u001B[0mdistributions\u001B[0m\u001B[1;33m.\u001B[0m\u001B[0mdistribution\u001B[0m \u001B[1;32mimport\u001B[0m \u001B[0mdraw_values\u001B[0m\u001B[1;33m\u001B[0m\u001B[1;33m\u001B[0m\u001B[0m\n",
      "\u001B[1;32m~\\Anaconda3\\envs\\vyborg_orthodox\\lib\\site-packages\\pymc3\\backends\\__init__.py\u001B[0m in \u001B[0;36m<module>\u001B[1;34m\u001B[0m\n\u001B[0;32m    121\u001B[0m \u001B[1;32mfrom\u001B[0m \u001B[1;33m.\u001B[0m\u001B[1;33m.\u001B[0m\u001B[0mbackends\u001B[0m\u001B[1;33m.\u001B[0m\u001B[0mtext\u001B[0m \u001B[1;32mimport\u001B[0m \u001B[0mText\u001B[0m\u001B[1;33m\u001B[0m\u001B[1;33m\u001B[0m\u001B[0m\n\u001B[0;32m    122\u001B[0m \u001B[1;32mfrom\u001B[0m \u001B[1;33m.\u001B[0m\u001B[1;33m.\u001B[0m\u001B[0mbackends\u001B[0m\u001B[1;33m.\u001B[0m\u001B[0msqlite\u001B[0m \u001B[1;32mimport\u001B[0m \u001B[0mSQLite\u001B[0m\u001B[1;33m\u001B[0m\u001B[1;33m\u001B[0m\u001B[0m\n\u001B[1;32m--> 123\u001B[1;33m \u001B[1;32mfrom\u001B[0m \u001B[1;33m.\u001B[0m\u001B[1;33m.\u001B[0m\u001B[0mbackends\u001B[0m\u001B[1;33m.\u001B[0m\u001B[0mhdf5\u001B[0m \u001B[1;32mimport\u001B[0m \u001B[0mHDF5\u001B[0m\u001B[1;33m\u001B[0m\u001B[1;33m\u001B[0m\u001B[0m\n\u001B[0m\u001B[0;32m    124\u001B[0m \u001B[1;33m\u001B[0m\u001B[0m\n\u001B[0;32m    125\u001B[0m _shortcuts = {'text': {'backend': Text,\n",
      "\u001B[1;32m~\\Anaconda3\\envs\\vyborg_orthodox\\lib\\site-packages\\pymc3\\backends\\hdf5.py\u001B[0m in \u001B[0;36m<module>\u001B[1;34m\u001B[0m\n\u001B[0;32m      1\u001B[0m \u001B[1;32mfrom\u001B[0m \u001B[1;33m.\u001B[0m\u001B[1;33m.\u001B[0m\u001B[0mbackends\u001B[0m \u001B[1;32mimport\u001B[0m \u001B[0mbase\u001B[0m\u001B[1;33m,\u001B[0m \u001B[0mndarray\u001B[0m\u001B[1;33m\u001B[0m\u001B[1;33m\u001B[0m\u001B[0m\n\u001B[1;32m----> 2\u001B[1;33m \u001B[1;32mimport\u001B[0m \u001B[0mh5py\u001B[0m\u001B[1;33m\u001B[0m\u001B[1;33m\u001B[0m\u001B[0m\n\u001B[0m\u001B[0;32m      3\u001B[0m \u001B[1;32mfrom\u001B[0m \u001B[0mcontextlib\u001B[0m \u001B[1;32mimport\u001B[0m \u001B[0mcontextmanager\u001B[0m\u001B[1;33m\u001B[0m\u001B[1;33m\u001B[0m\u001B[0m\n\u001B[0;32m      4\u001B[0m \u001B[1;33m\u001B[0m\u001B[0m\n\u001B[0;32m      5\u001B[0m \u001B[1;33m@\u001B[0m\u001B[0mcontextmanager\u001B[0m\u001B[1;33m\u001B[0m\u001B[1;33m\u001B[0m\u001B[0m\n",
      "\u001B[1;32m~\\AppData\\Roaming\\Python\\Python38\\site-packages\\h5py\\__init__.py\u001B[0m in \u001B[0;36m<module>\u001B[1;34m\u001B[0m\n\u001B[0;32m     32\u001B[0m         \u001B[1;32mraise\u001B[0m\u001B[1;33m\u001B[0m\u001B[1;33m\u001B[0m\u001B[0m\n\u001B[0;32m     33\u001B[0m \u001B[1;33m\u001B[0m\u001B[0m\n\u001B[1;32m---> 34\u001B[1;33m \u001B[1;32mfrom\u001B[0m \u001B[1;33m.\u001B[0m \u001B[1;32mimport\u001B[0m \u001B[0mversion\u001B[0m\u001B[1;33m\u001B[0m\u001B[1;33m\u001B[0m\u001B[0m\n\u001B[0m\u001B[0;32m     35\u001B[0m \u001B[1;33m\u001B[0m\u001B[0m\n\u001B[0;32m     36\u001B[0m \u001B[1;32mif\u001B[0m \u001B[0mversion\u001B[0m\u001B[1;33m.\u001B[0m\u001B[0mhdf5_version_tuple\u001B[0m \u001B[1;33m!=\u001B[0m \u001B[0mversion\u001B[0m\u001B[1;33m.\u001B[0m\u001B[0mhdf5_built_version_tuple\u001B[0m\u001B[1;33m:\u001B[0m\u001B[1;33m\u001B[0m\u001B[1;33m\u001B[0m\u001B[0m\n",
      "\u001B[1;32m~\\AppData\\Roaming\\Python\\Python38\\site-packages\\h5py\\version.py\u001B[0m in \u001B[0;36m<module>\u001B[1;34m\u001B[0m\n\u001B[0;32m     15\u001B[0m \u001B[1;33m\u001B[0m\u001B[0m\n\u001B[0;32m     16\u001B[0m \u001B[1;32mfrom\u001B[0m \u001B[0mcollections\u001B[0m \u001B[1;32mimport\u001B[0m \u001B[0mnamedtuple\u001B[0m\u001B[1;33m\u001B[0m\u001B[1;33m\u001B[0m\u001B[0m\n\u001B[1;32m---> 17\u001B[1;33m \u001B[1;32mfrom\u001B[0m \u001B[1;33m.\u001B[0m \u001B[1;32mimport\u001B[0m \u001B[0mh5\u001B[0m \u001B[1;32mas\u001B[0m \u001B[0m_h5\u001B[0m\u001B[1;33m\u001B[0m\u001B[1;33m\u001B[0m\u001B[0m\n\u001B[0m\u001B[0;32m     18\u001B[0m \u001B[1;32mimport\u001B[0m \u001B[0msys\u001B[0m\u001B[1;33m\u001B[0m\u001B[1;33m\u001B[0m\u001B[0m\n\u001B[0;32m     19\u001B[0m \u001B[1;32mimport\u001B[0m \u001B[0mnumpy\u001B[0m\u001B[1;33m\u001B[0m\u001B[1;33m\u001B[0m\u001B[0m\n",
      "\u001B[1;32mh5py\\h5.pyx\u001B[0m in \u001B[0;36minit h5py.h5\u001B[1;34m()\u001B[0m\n",
      "\u001B[1;31mImportError\u001B[0m: DLL load failed while importing defs: Määritettyä proseduuria ei löydy."
     ]
    }
   ],
   "source": [
    "import pandas as pd\n",
    "import numpy as np\n",
    "import pymc3 as pm\n",
    "import arviz as az\n",
    "import matplotlib.pyplot as plt\n",
    "\n",
    "data = pd.read_csv('data.csv', index_col=0)\n",
    "data = data.loc[:, 'total orthodox income_per_person'.split()].dropna(axis=0)\n",
    "\n",
    "with pm.Model() as model:\n",
    "    mu_S = 0.3\n",
    "    sigma_S = 0.1\n",
    "    S = pm.Beta('S', mu=mu_S, sigma=sigma_S)\n",
    "    mu_W = 2\n",
    "    lambda_W = 1/mu_W\n",
    "    W_k = pm.Exponential('W_k', lambda_W, observed=data.income_per_person)\n",
    "    mu_P = 14\n",
    "    P_k = pm.Poisson('P_k', mu_P, observed=data.total)\n",
    "    mu_beta = np.array([0., 0., 0., 0.])\n",
    "    sigma_beta = np.array(np.diagflat([0.25, 0.25, 0.25, 0.25]))\n",
    "    beta = pm.MvNormal('beta', mu_beta, sigma_beta, shape=4)\n",
    "    mu_O = np.exp(beta[0] + beta[1] * W_k + beta[2] * P_k + beta[3] * S)\n",
    "    alpha_O = 2\n",
    "    O_k = pm.Poisson('O_k', mu_O, observed=data.orthodox)\n",
    "\n",
    "    prior = pm.sample_prior_predictive()\n",
    "    posterior = pm.sample(init=\"adapt_diag\")\n",
    "    posterior_prediction = pm.sample_posterior_predictive(posterior)\n",
    "\n",
    "az.plot_posterior(posterior)\n",
    "az.plot_trace(posterior)\n",
    "az.plot_forest(posterior, combined=False, hdi_prob=0.94)\n",
    "pm.model_to_graphviz(model)\n"
   ],
   "metadata": {
    "collapsed": false,
    "pycharm": {
     "name": "#%%\n"
    }
   }
  }
 ],
 "metadata": {
  "kernelspec": {
   "name": "pycharm-8f9d5ac5",
   "language": "python",
   "display_name": "PyCharm (vyborg_orthodox)"
  },
  "language_info": {
   "codemirror_mode": {
    "name": "ipython",
    "version": 2
   },
   "file_extension": ".py",
   "mimetype": "text/x-python",
   "name": "python",
   "nbconvert_exporter": "python",
   "pygments_lexer": "ipython2",
   "version": "2.7.6"
  }
 },
 "nbformat": 4,
 "nbformat_minor": 0
}