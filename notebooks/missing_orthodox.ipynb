{
 "cells": [
  {
   "cell_type": "code",
   "execution_count": null,
   "outputs": [],
   "source": [
    "import warnings\n",
    "from pathlib import Path\n",
    "\n",
    "import pandas as pd\n",
    "\n",
    "data_dir = Path('../data')\n",
    "warnings.simplefilter(action='ignore', category=FutureWarning)"
   ],
   "metadata": {
    "collapsed": false,
    "pycharm": {
     "name": "#%%\n"
    }
   }
  },
  {
   "cell_type": "code",
   "execution_count": null,
   "outputs": [],
   "source": [
    "def remove_institutions(\n",
    "        pop_data: pd.DataFrame,\n",
    "        institutions: pd.DataFrame,\n",
    "        year,\n",
    "):\n",
    "    institutions = institutions.set_index(['district', 'plot_number'])\n",
    "    institutions = institutions.loc[institutions.year == year]\n",
    "\n",
    "    for idx in institutions.index:\n",
    "        pop_data = pop_data.drop(index=idx, errors='ignore')\n",
    "\n",
    "    return pop_data\n",
    "\n",
    "def prepare_pop_data(\n",
    "        population_data: pd.DataFrame,\n",
    "        num_cols=None,\n",
    ") -> pd.DataFrame:\n",
    "\n",
    "    pop_frame = population_data.fillna(value=0)\n",
    "\n",
    "    if not num_cols:\n",
    "        num_cols = [\n",
    "            'total_men',\n",
    "            'total_women',\n",
    "            'orthodox',\n",
    "            'other_christian',\n",
    "            'other_religion',\n",
    "        ]\n",
    "\n",
    "    pop_frame.loc[:, num_cols] = pop_frame.loc[:, num_cols].astype(int)\n",
    "\n",
    "    pop_frame['lutheran'] = pop_frame['total_men total_women'.split()].sum(axis=1) \\\n",
    "                            - pop_frame['other_christian orthodox other_religion'.split()].sum(axis=1)\n",
    "\n",
    "    pop_frame['total'] = pop_frame['other_christian orthodox other_religion lutheran'.split()].sum(axis=1)\n",
    "\n",
    "    return pop_frame"
   ],
   "metadata": {
    "collapsed": false,
    "pycharm": {
     "name": "#%% Data handling\n"
    }
   }
  },
  {
   "cell_type": "code",
   "execution_count": null,
   "outputs": [],
   "source": [
    "district_codes = pd.read_csv(data_dir / 'district_codes_1878.csv')\n",
    "district_codes = {k: v for k, v in district_codes.itertuples(index=False)}\n",
    "institutions = pd.read_csv(data_dir / 'institutions.csv', dtype={'district': str, 'plot_number': str})\n",
    "\n",
    "districts_in_city = [\n",
    "    'Valli',\n",
    "    'Salakkalahti',\n",
    "    'Repola',\n",
    "    'Anina',\n",
    "    'Papula',\n",
    "    'P_Annan_kruunu',\n",
    "    'Hiekka',\n",
    "    'Pantsarlahti',\n",
    "    'Viipurin_esikaupunki',\n",
    "    'Paulovski',\n",
    "    'Havi',\n",
    "    'Saunalahti',\n",
    "    'Pietarin_esikaupunki',\n",
    "]\n",
    "\n",
    "results_D = {}\n",
    "\n",
    "for year in range(1880, 1921, 5):\n",
    "    population_data = pd.read_csv(\n",
    "            data_dir / 'interim' / f'pop_by_page_{year}.csv',\n",
    "            index_col=0,\n",
    "            dtype={'district': str, 'representative_plot': str, 'page_number': str},\n",
    "        ).pipe(prepare_pop_data).pipe(remove_institutions, institutions, year)\n",
    "    population_data = population_data[population_data.district.isin(districts_in_city)]\n",
    "    population_data = population_data.loc[:, ['district', 'lutheran', 'orthodox', 'total']].groupby('district').sum()\n",
    "    totals = pd.Series(population_data.sum(axis=0), name='totals')\n",
    "    population_data = population_data.append(totals)\n",
    "\n",
    "    print(f'    {year}:')\n",
    "    print(population_data)\n",
    "    print()"
   ],
   "metadata": {
    "collapsed": false,
    "pycharm": {
     "name": "#%%\n"
    }
   }
  },
  {
   "cell_type": "markdown",
   "source": [
    "Model:\n",
    "\n",
    "$ o_t = y_t - m_t $\n",
    "\n",
    "$ m_t \\sim Poisson(30) $\n",
    "\n",
    "$ y_t = \\theta y_{t-1} + \\epsilon_t $\n",
    "\n",
    "$ \\epsilon_t \\sim N(0, 5^2) $\n",
    "\n",
    "$ \\theta_t \\sim N(0, 0.1^2) $"
   ],
   "metadata": {
    "collapsed": false
   }
  },
  {
   "cell_type": "code",
   "execution_count": null,
   "outputs": [],
   "source": [
    "import pandas as pd\n",
    "import numpy as np\n",
    "import pymc3 as pm\n",
    "import arviz as az\n",
    "import matplotlib.pyplot as plt\n",
    "\n",
    "data = pd.read_csv('data.csv', index_col=0)\n",
    "data = data.loc[:, 'total orthodox income_per_person'.split()].dropna(axis=0)\n",
    "\n",
    "with pm.Model() as model:\n",
    "    mu_S = 0.3\n",
    "    sigma_S = 0.1\n",
    "    S = pm.Beta('S', mu=mu_S, sigma=sigma_S)\n",
    "    mu_W = 2\n",
    "    lambda_W = 1/mu_W\n",
    "    W_k = pm.Exponential('W_k', lambda_W, observed=data.income_per_person)\n",
    "    mu_P = 14\n",
    "    P_k = pm.Poisson('P_k', mu_P, observed=data.total)\n",
    "    mu_beta = np.array([0., 0., 0., 0.])\n",
    "    sigma_beta = np.array(np.diagflat([0.25, 0.25, 0.25, 0.25]))\n",
    "    beta = pm.MvNormal('beta', mu_beta, sigma_beta, shape=4)\n",
    "    mu_O = np.exp(beta[0] + beta[1] * W_k + beta[2] * P_k + beta[3] * S)\n",
    "    alpha_O = 2\n",
    "    O_k = pm.Poisson('O_k', mu_O, observed=data.orthodox)\n",
    "\n",
    "    prior = pm.sample_prior_predictive()\n",
    "    posterior = pm.sample(init=\"adapt_diag\")\n",
    "    posterior_prediction = pm.sample_posterior_predictive(posterior)\n",
    "\n",
    "az.plot_posterior(posterior)\n",
    "az.plot_trace(posterior)\n",
    "az.plot_forest(posterior, combined=False, hdi_prob=0.94)\n",
    "pm.model_to_graphviz(model)\n"
   ],
   "metadata": {
    "collapsed": false,
    "pycharm": {
     "name": "#%%\n"
    }
   }
  }
 ],
 "metadata": {
  "kernelspec": {
   "display_name": "Python 3",
   "language": "python",
   "name": "python3"
  },
  "language_info": {
   "codemirror_mode": {
    "name": "ipython",
    "version": 2
   },
   "file_extension": ".py",
   "mimetype": "text/x-python",
   "name": "python",
   "nbconvert_exporter": "python",
   "pygments_lexer": "ipython2",
   "version": "2.7.6"
  }
 },
 "nbformat": 4,
 "nbformat_minor": 0
}